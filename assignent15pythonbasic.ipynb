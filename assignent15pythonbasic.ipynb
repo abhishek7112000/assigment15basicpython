{
 "cells": [
  {
   "cell_type": "code",
   "execution_count": null,
   "id": "4bfbbfdb-952a-4364-a91f-e8342908fc88",
   "metadata": {},
   "outputs": [],
   "source": [
    "1.How many seconds are in an hour? Use the interactive interpreter as a calculator and multiply the\n",
    "number of seconds in a minute (60) by the number of minutes in an hour (also 60)."
   ]
  },
  {
   "cell_type": "code",
   "execution_count": null,
   "id": "2429ada3-f8c8-4e5e-acba-3dcd89eed466",
   "metadata": {},
   "outputs": [],
   "source": [
    "ans-print(60*60)\n",
    "-3600"
   ]
  },
  {
   "cell_type": "code",
   "execution_count": null,
   "id": "946d010e-ba2c-42be-8afe-5856f8f06d6a",
   "metadata": {},
   "outputs": [],
   "source": [
    "2. Assign the result from the previous task (seconds in an hour) to a variable called\n",
    "seconds_per_hour."
   ]
  },
  {
   "cell_type": "code",
   "execution_count": null,
   "id": "5102377c-d5dd-4cbd-8e08-1da45c75ab57",
   "metadata": {},
   "outputs": [],
   "source": [
    "ans-seconds_per_hour = 60*60\n",
    "print(seconds_per_hour)\n",
    "3600"
   ]
  },
  {
   "cell_type": "code",
   "execution_count": null,
   "id": "87a82b69-2489-4992-abf2-399b1f7163ee",
   "metadata": {},
   "outputs": [],
   "source": [
    "3. How many seconds do you think there are in a day? Make use of the variables seconds per hour\n",
    "and minutes per hour."
   ]
  },
  {
   "cell_type": "code",
   "execution_count": null,
   "id": "aa7bf2ab-5881-4ffd-9011-683c96ca35e9",
   "metadata": {},
   "outputs": [],
   "source": [
    "ans-minutes_per_hour = 60\n",
    "print(seconds_per_hour*24)\n",
    "86400"
   ]
  },
  {
   "cell_type": "code",
   "execution_count": null,
   "id": "b7c7f8ab-489d-4785-8ee5-8c267f19430b",
   "metadata": {},
   "outputs": [],
   "source": [
    "4. Calculate seconds per day again, but this time save the result in a variable called seconds_per_day"
   ]
  },
  {
   "cell_type": "code",
   "execution_count": null,
   "id": "a46fe2b2-847b-4cfd-b5d3-ac4a2e1e4188",
   "metadata": {},
   "outputs": [],
   "source": [
    "ans-seconds_per_day = 24*60*60\n",
    "print(seconds_per_day)\n",
    "86400"
   ]
  },
  {
   "cell_type": "code",
   "execution_count": null,
   "id": "f7c2f879-8806-45ff-9f76-9a1b871797e8",
   "metadata": {},
   "outputs": [],
   "source": [
    "5. Divide seconds_per_day by seconds_per_hour. Use floating-point (/) division."
   ]
  },
  {
   "cell_type": "code",
   "execution_count": null,
   "id": "248eb9eb-9e16-4832-8768-df9111d1db28",
   "metadata": {},
   "outputs": [],
   "source": [
    "ans-print(seconds_per_day/seconds_per_hour)\n",
    "24.0"
   ]
  },
  {
   "cell_type": "code",
   "execution_count": null,
   "id": "38dad4fa-13db-48ff-9e6e-2a5513699437",
   "metadata": {},
   "outputs": [],
   "source": [
    "6. Divide seconds_per_day by seconds_per_hour, using integer (//) division. Did this number agree\n",
    "with the floating-point value from the previous question, aside from the final .0?"
   ]
  },
  {
   "cell_type": "code",
   "execution_count": null,
   "id": "3faeaca9-ab3a-4b8b-b949-dfa94b6f60db",
   "metadata": {},
   "outputs": [],
   "source": [
    "ans-"
   ]
  },
  {
   "cell_type": "code",
   "execution_count": null,
   "id": "d6226e86-7406-4b17-ba89-fd5f6f19c9a9",
   "metadata": {},
   "outputs": [],
   "source": []
  },
  {
   "cell_type": "code",
   "execution_count": null,
   "id": "2ffc455f-5ddb-4136-82a2-c39986e9a610",
   "metadata": {},
   "outputs": [],
   "source": []
  },
  {
   "cell_type": "code",
   "execution_count": null,
   "id": "7306ebfd-0400-4646-9182-cf3d11001114",
   "metadata": {},
   "outputs": [],
   "source": []
  },
  {
   "cell_type": "code",
   "execution_count": null,
   "id": "a79347f1-ba4f-4ec2-af24-d9a50595bbb9",
   "metadata": {},
   "outputs": [],
   "source": []
  }
 ],
 "metadata": {
  "kernelspec": {
   "display_name": "Python 3 (ipykernel)",
   "language": "python",
   "name": "python3"
  },
  "language_info": {
   "codemirror_mode": {
    "name": "ipython",
    "version": 3
   },
   "file_extension": ".py",
   "mimetype": "text/x-python",
   "name": "python",
   "nbconvert_exporter": "python",
   "pygments_lexer": "ipython3",
   "version": "3.10.6"
  }
 },
 "nbformat": 4,
 "nbformat_minor": 5
}
